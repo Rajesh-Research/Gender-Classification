{
 "cells": [
  {
   "cell_type": "code",
   "execution_count": null,
   "metadata": {},
   "outputs": [],
   "source": []
  },
  {
   "cell_type": "markdown",
   "metadata": {},
   "source": [
    "#                                                Assignment -  1  -\n",
    "\n",
    "Build a classification model to classify the gender of a Hollywood movie character based on their dialogues in the movie. "
   ]
  },
  {
   "cell_type": "raw",
   "metadata": {},
   "source": [
    "Job Created By : Rajesh Kumar K V,\n",
    "                 16-06-2021"
   ]
  },
  {
   "cell_type": "markdown",
   "metadata": {},
   "source": [
    "# "
   ]
  },
  {
   "cell_type": "code",
   "execution_count": 1,
   "metadata": {},
   "outputs": [
    {
     "name": "stdout",
     "output_type": "stream",
     "text": [
      "Requirement already satisfied: imblearn in c:\\users\\rajesh kumar\\anaconda3\\lib\\site-packages (0.0)\n",
      "Requirement already satisfied: imbalanced-learn in c:\\users\\rajesh kumar\\anaconda3\\lib\\site-packages (from imblearn) (0.6.0)\n",
      "Requirement already satisfied: numpy>=1.11 in c:\\users\\rajesh kumar\\anaconda3\\lib\\site-packages (from imbalanced-learn->imblearn) (1.19.5)\n",
      "Requirement already satisfied: scikit-learn>=0.22 in c:\\users\\rajesh kumar\\anaconda3\\lib\\site-packages (from imbalanced-learn->imblearn) (0.22.1)\n",
      "Requirement already satisfied: joblib>=0.11 in c:\\users\\rajesh kumar\\anaconda3\\lib\\site-packages (from imbalanced-learn->imblearn) (0.13.2)\n",
      "Requirement already satisfied: scipy>=0.17 in c:\\users\\rajesh kumar\\anaconda3\\lib\\site-packages (from imbalanced-learn->imblearn) (1.3.1)\n"
     ]
    }
   ],
   "source": [
    " !pip install imblearn"
   ]
  },
  {
   "cell_type": "markdown",
   "metadata": {},
   "source": [
    "For IMBALANCED Data sets - inorder to Make balanced ones, for undersampling "
   ]
  },
  {
   "cell_type": "code",
   "execution_count": 57,
   "metadata": {},
   "outputs": [],
   "source": [
    "import pandas as pd\n",
    "\n",
    "\n",
    "import statistics\n",
    "from statistics import median\n",
    "\n",
    "import random\n",
    "import matplotlib.pyplot as plt\n",
    "import matplotlib.pyplot as plt\n",
    "import itertools\n",
    "from sklearn.model_selection import train_test_split\n",
    "from sklearn.preprocessing import StandardScaler\n",
    "from sklearn.preprocessing import LabelEncoder  \n",
    "\n",
    "\n",
    "\n",
    "from sklearn.base import BaseEstimator, TransformerMixin\n",
    "from sklearn.preprocessing import OneHotEncoder, StandardScaler, MinMaxScaler\n",
    "from sklearn.compose import ColumnTransformer\n",
    "from sklearn.feature_extraction.text import TfidfTransformer, CountVectorizer, TfidfVectorizer\n",
    "from sklearn.preprocessing import FunctionTransformer\n",
    "from sklearn.linear_model import LogisticRegression\n",
    "from sklearn.naive_bayes import MultinomialNB\n",
    "from sklearn.ensemble import RandomForestClassifier,BaggingClassifier\n",
    "\n",
    "\n",
    "\n",
    "from sklearn.metrics import classification_report, confusion_matrix\n",
    "from sklearn.pipeline import FeatureUnion, Pipeline\n",
    "from imblearn.under_sampling import RandomUnderSampler\n",
    "from sklearn.model_selection import train_test_split\n",
    "from sklearn.base import BaseEstimator, TransformerMixin\n"
   ]
  },
  {
   "cell_type": "markdown",
   "metadata": {},
   "source": [
    "Libraries utilized for the Development of the problem statement"
   ]
  },
  {
   "cell_type": "code",
   "execution_count": 74,
   "metadata": {},
   "outputs": [],
   "source": [
    "characters = pd.read_csv(('C:\\\\Users\\\\Rajesh Kumar\\\\Desktop\\\\whitehat\\\\movie_characters_metadata.tsv'),sep='\\t', header= None,  error_bad_lines=False,\n",
    "                       warn_bad_lines=False)\n",
    "\n",
    "conversations = pd.read_csv(('C:\\\\Users\\\\Rajesh Kumar\\\\Desktop\\\\whitehat\\\\movie_conversations.tsv'),sep='\\t', header= None,  error_bad_lines=False,\n",
    "                       warn_bad_lines=False)\n",
    "\n",
    "lines = pd.read_csv(('C:\\\\Users\\\\Rajesh Kumar\\\\Desktop\\\\whitehat\\\\movie_lines.tsv'),sep='\\t', header= None,  error_bad_lines=False,\n",
    "                       warn_bad_lines=False)\n",
    "\n",
    "metadata = pd.read_csv(('C:\\\\Users\\\\Rajesh Kumar\\\\Desktop\\\\whitehat\\\\movie_titles_metadata.tsv'),sep='\\t', header= None,  error_bad_lines=False,\n",
    "                       warn_bad_lines=False)"
   ]
  },
  {
   "cell_type": "markdown",
   "metadata": {},
   "source": [
    "Reading All Dataset from the Local Machine - "
   ]
  },
  {
   "cell_type": "markdown",
   "metadata": {},
   "source": [
    "# CHARACTERS Dataset Analysis - Preprocessing "
   ]
  },
  {
   "cell_type": "code",
   "execution_count": 75,
   "metadata": {},
   "outputs": [
    {
     "data": {
      "text/html": [
       "<div>\n",
       "<style scoped>\n",
       "    .dataframe tbody tr th:only-of-type {\n",
       "        vertical-align: middle;\n",
       "    }\n",
       "\n",
       "    .dataframe tbody tr th {\n",
       "        vertical-align: top;\n",
       "    }\n",
       "\n",
       "    .dataframe thead th {\n",
       "        text-align: right;\n",
       "    }\n",
       "</style>\n",
       "<table border=\"1\" class=\"dataframe\">\n",
       "  <thead>\n",
       "    <tr style=\"text-align: right;\">\n",
       "      <th></th>\n",
       "      <th>0</th>\n",
       "      <th>1</th>\n",
       "      <th>2</th>\n",
       "      <th>3</th>\n",
       "      <th>4</th>\n",
       "      <th>5</th>\n",
       "    </tr>\n",
       "  </thead>\n",
       "  <tbody>\n",
       "    <tr>\n",
       "      <th>0</th>\n",
       "      <td>u0</td>\n",
       "      <td>BIANCA</td>\n",
       "      <td>m0</td>\n",
       "      <td>10 things i hate about you</td>\n",
       "      <td>f</td>\n",
       "      <td>4</td>\n",
       "    </tr>\n",
       "    <tr>\n",
       "      <th>1</th>\n",
       "      <td>u1</td>\n",
       "      <td>BRUCE</td>\n",
       "      <td>m0</td>\n",
       "      <td>10 things i hate about you</td>\n",
       "      <td>?</td>\n",
       "      <td>?</td>\n",
       "    </tr>\n",
       "    <tr>\n",
       "      <th>2</th>\n",
       "      <td>u2</td>\n",
       "      <td>CAMERON</td>\n",
       "      <td>m0</td>\n",
       "      <td>10 things i hate about you</td>\n",
       "      <td>m</td>\n",
       "      <td>3</td>\n",
       "    </tr>\n",
       "    <tr>\n",
       "      <th>3</th>\n",
       "      <td>u3</td>\n",
       "      <td>CHASTITY</td>\n",
       "      <td>m0</td>\n",
       "      <td>10 things i hate about you</td>\n",
       "      <td>?</td>\n",
       "      <td>?</td>\n",
       "    </tr>\n",
       "    <tr>\n",
       "      <th>4</th>\n",
       "      <td>u4</td>\n",
       "      <td>JOEY</td>\n",
       "      <td>m0</td>\n",
       "      <td>10 things i hate about you</td>\n",
       "      <td>m</td>\n",
       "      <td>6</td>\n",
       "    </tr>\n",
       "  </tbody>\n",
       "</table>\n",
       "</div>"
      ],
      "text/plain": [
       "    0         1   2                           3  4  5\n",
       "0  u0    BIANCA  m0  10 things i hate about you  f  4\n",
       "1  u1     BRUCE  m0  10 things i hate about you  ?  ?\n",
       "2  u2   CAMERON  m0  10 things i hate about you  m  3\n",
       "3  u3  CHASTITY  m0  10 things i hate about you  ?  ?\n",
       "4  u4      JOEY  m0  10 things i hate about you  m  6"
      ]
     },
     "execution_count": 75,
     "metadata": {},
     "output_type": "execute_result"
    }
   ],
   "source": [
    "characters.head()"
   ]
  },
  {
   "cell_type": "markdown",
   "metadata": {},
   "source": [
    "Characters.head() - Indicates the First Five Samples of the Dataset"
   ]
  },
  {
   "cell_type": "code",
   "execution_count": 76,
   "metadata": {},
   "outputs": [
    {
     "data": {
      "text/html": [
       "<div>\n",
       "<style scoped>\n",
       "    .dataframe tbody tr th:only-of-type {\n",
       "        vertical-align: middle;\n",
       "    }\n",
       "\n",
       "    .dataframe tbody tr th {\n",
       "        vertical-align: top;\n",
       "    }\n",
       "\n",
       "    .dataframe thead th {\n",
       "        text-align: right;\n",
       "    }\n",
       "</style>\n",
       "<table border=\"1\" class=\"dataframe\">\n",
       "  <thead>\n",
       "    <tr style=\"text-align: right;\">\n",
       "      <th></th>\n",
       "      <th>CharID</th>\n",
       "      <th>CharName</th>\n",
       "      <th>MovieID</th>\n",
       "      <th>MovieName</th>\n",
       "      <th>Gender</th>\n",
       "      <th>PositionCredits</th>\n",
       "    </tr>\n",
       "  </thead>\n",
       "  <tbody>\n",
       "    <tr>\n",
       "      <th>0</th>\n",
       "      <td>u0</td>\n",
       "      <td>BIANCA</td>\n",
       "      <td>m0</td>\n",
       "      <td>10 things i hate about you</td>\n",
       "      <td>f</td>\n",
       "      <td>4</td>\n",
       "    </tr>\n",
       "    <tr>\n",
       "      <th>1</th>\n",
       "      <td>u1</td>\n",
       "      <td>BRUCE</td>\n",
       "      <td>m0</td>\n",
       "      <td>10 things i hate about you</td>\n",
       "      <td>?</td>\n",
       "      <td>?</td>\n",
       "    </tr>\n",
       "    <tr>\n",
       "      <th>2</th>\n",
       "      <td>u2</td>\n",
       "      <td>CAMERON</td>\n",
       "      <td>m0</td>\n",
       "      <td>10 things i hate about you</td>\n",
       "      <td>m</td>\n",
       "      <td>3</td>\n",
       "    </tr>\n",
       "    <tr>\n",
       "      <th>3</th>\n",
       "      <td>u3</td>\n",
       "      <td>CHASTITY</td>\n",
       "      <td>m0</td>\n",
       "      <td>10 things i hate about you</td>\n",
       "      <td>?</td>\n",
       "      <td>?</td>\n",
       "    </tr>\n",
       "    <tr>\n",
       "      <th>4</th>\n",
       "      <td>u4</td>\n",
       "      <td>JOEY</td>\n",
       "      <td>m0</td>\n",
       "      <td>10 things i hate about you</td>\n",
       "      <td>m</td>\n",
       "      <td>6</td>\n",
       "    </tr>\n",
       "  </tbody>\n",
       "</table>\n",
       "</div>"
      ],
      "text/plain": [
       "  CharID  CharName MovieID                   MovieName Gender PositionCredits\n",
       "0     u0    BIANCA      m0  10 things i hate about you      f               4\n",
       "1     u1     BRUCE      m0  10 things i hate about you      ?               ?\n",
       "2     u2   CAMERON      m0  10 things i hate about you      m               3\n",
       "3     u3  CHASTITY      m0  10 things i hate about you      ?               ?\n",
       "4     u4      JOEY      m0  10 things i hate about you      m               6"
      ]
     },
     "execution_count": 76,
     "metadata": {},
     "output_type": "execute_result"
    }
   ],
   "source": [
    "characters.columns = ['CharID','CharName','MovieID','MovieName','Gender','PositionCredits']\n",
    "characters.head()"
   ]
  },
  {
   "cell_type": "markdown",
   "metadata": {},
   "source": [
    "Charaters names - Columns Headings addition and also Displaying the Data samples with Head()"
   ]
  },
  {
   "cell_type": "code",
   "execution_count": 77,
   "metadata": {},
   "outputs": [
    {
     "data": {
      "text/plain": [
       "(9034, 6)"
      ]
     },
     "execution_count": 77,
     "metadata": {},
     "output_type": "execute_result"
    }
   ],
   "source": [
    "characters.shape"
   ]
  },
  {
   "cell_type": "code",
   "execution_count": 78,
   "metadata": {},
   "outputs": [
    {
     "data": {
      "text/plain": [
       "?    6008\n",
       "m    1899\n",
       "f     921\n",
       "M     145\n",
       "F      44\n",
       "Name: Gender, dtype: int64"
      ]
     },
     "execution_count": 78,
     "metadata": {},
     "output_type": "execute_result"
    }
   ],
   "source": [
    "characters.Gender.value_counts()"
   ]
  },
  {
   "cell_type": "markdown",
   "metadata": {},
   "source": [
    "# Gender Count - All categories"
   ]
  },
  {
   "cell_type": "code",
   "execution_count": 79,
   "metadata": {},
   "outputs": [],
   "source": [
    "characters = characters[characters.Gender != '?']"
   ]
  },
  {
   "cell_type": "code",
   "execution_count": 80,
   "metadata": {},
   "outputs": [
    {
     "data": {
      "text/plain": [
       "m    1899\n",
       "f     921\n",
       "M     145\n",
       "F      44\n",
       "Name: Gender, dtype: int64"
      ]
     },
     "execution_count": 80,
     "metadata": {},
     "output_type": "execute_result"
    }
   ],
   "source": [
    "characters.Gender.value_counts()"
   ]
  },
  {
   "cell_type": "code",
   "execution_count": 81,
   "metadata": {},
   "outputs": [],
   "source": [
    "characters['Gender'] = characters['Gender'].replace('m','M', regex=True)\n",
    "characters['Gender'] = characters['Gender'].replace('f','F', regex=True)"
   ]
  },
  {
   "cell_type": "markdown",
   "metadata": {},
   "source": [
    "Changing Gender labels small letters to capital letters - Inorder to maintain linearity"
   ]
  },
  {
   "cell_type": "code",
   "execution_count": 82,
   "metadata": {},
   "outputs": [
    {
     "data": {
      "text/plain": [
       "M    2044\n",
       "F     965\n",
       "Name: Gender, dtype: int64"
      ]
     },
     "execution_count": 82,
     "metadata": {},
     "output_type": "execute_result"
    }
   ],
   "source": [
    "characters.Gender.value_counts()"
   ]
  },
  {
   "cell_type": "markdown",
   "metadata": {},
   "source": [
    "Total Male = 2044 , Female = 956"
   ]
  },
  {
   "cell_type": "code",
   "execution_count": 83,
   "metadata": {},
   "outputs": [
    {
     "data": {
      "text/plain": [
       "(3026, 6)"
      ]
     },
     "execution_count": 83,
     "metadata": {},
     "output_type": "execute_result"
    }
   ],
   "source": [
    "characters.Gender = characters.Gender.apply(lambda k: 0 if k in ['M'] else 1)  \n",
    "characters.shape"
   ]
  },
  {
   "cell_type": "code",
   "execution_count": 84,
   "metadata": {},
   "outputs": [
    {
     "data": {
      "text/plain": [
       "0    2044\n",
       "1     982\n",
       "Name: Gender, dtype: int64"
      ]
     },
     "execution_count": 84,
     "metadata": {},
     "output_type": "execute_result"
    }
   ],
   "source": [
    "characters.Gender.value_counts()"
   ]
  },
  {
   "cell_type": "raw",
   "metadata": {},
   "source": [
    "Class - 'Male' Represented with 0\n",
    "\n",
    "\n",
    "Class - 'FeMale' Represented with 1"
   ]
  },
  {
   "cell_type": "code",
   "execution_count": 15,
   "metadata": {},
   "outputs": [
    {
     "data": {
      "text/plain": [
       "JACK             17\n",
       "JOHN             13\n",
       "DAVID            13\n",
       "MICHAEL          13\n",
       "MAX              13\n",
       "                 ..\n",
       "GRIMSRUD          1\n",
       "AARON             1\n",
       "DICK VAN DYKE     1\n",
       "UNCLE VICTOR      1\n",
       "VAUGHAN           1\n",
       "Name: CharName, Length: 1949, dtype: int64"
      ]
     },
     "execution_count": 15,
     "metadata": {},
     "output_type": "execute_result"
    }
   ],
   "source": [
    "characters.CharName.value_counts()"
   ]
  },
  {
   "cell_type": "markdown",
   "metadata": {},
   "source": [
    "Character names Displayed"
   ]
  },
  {
   "cell_type": "code",
   "execution_count": 16,
   "metadata": {},
   "outputs": [
    {
     "data": {
      "text/plain": [
       "magnolia                          18\n",
       "lone star                         16\n",
       "nixon                             12\n",
       "the anniversary party             12\n",
       "grand hotel                       12\n",
       "                                  ..\n",
       "predator                           1\n",
       "red white black & blue             1\n",
       "la battaglia di algeri             1\n",
       "the nightmare before christmas     1\n",
       "salt of the earth                  1\n",
       "Name: MovieName, Length: 599, dtype: int64"
      ]
     },
     "execution_count": 16,
     "metadata": {},
     "output_type": "execute_result"
    }
   ],
   "source": [
    "characters.MovieName.value_counts()"
   ]
  },
  {
   "cell_type": "markdown",
   "metadata": {},
   "source": [
    "Movies Names Displayed"
   ]
  },
  {
   "cell_type": "code",
   "execution_count": 17,
   "metadata": {},
   "outputs": [
    {
     "data": {
      "text/plain": [
       "1       497\n",
       "2       443\n",
       "3       352\n",
       "?       330\n",
       "4       268\n",
       "5       211\n",
       "6       169\n",
       "7       125\n",
       "8       100\n",
       "9        79\n",
       "10       54\n",
       "11       40\n",
       "1000     38\n",
       "13       33\n",
       "12       32\n",
       "16       26\n",
       "18       24\n",
       "14       24\n",
       "17       19\n",
       "19       18\n",
       "15       14\n",
       "21       13\n",
       "22        9\n",
       "20        8\n",
       "29        7\n",
       "27        6\n",
       "24        5\n",
       "26        5\n",
       "25        5\n",
       "31        4\n",
       "35        4\n",
       "23        4\n",
       "45        4\n",
       "38        3\n",
       "43        3\n",
       "34        3\n",
       "33        3\n",
       "30        2\n",
       "59        2\n",
       "42        2\n",
       "28        2\n",
       "36        2\n",
       "39        2\n",
       "32        2\n",
       "47        1\n",
       "44        1\n",
       "51        1\n",
       "63        1\n",
       "71        1\n",
       "82        1\n",
       "41        1\n",
       "46        1\n",
       "70        1\n",
       "37        1\n",
       "50        1\n",
       "62        1\n",
       "49        1\n",
       "Name: PositionCredits, dtype: int64"
      ]
     },
     "execution_count": 17,
     "metadata": {},
     "output_type": "execute_result"
    }
   ],
   "source": [
    "characters.PositionCredits.value_counts()"
   ]
  },
  {
   "cell_type": "markdown",
   "metadata": {},
   "source": [
    "Position Credits Displayed "
   ]
  },
  {
   "cell_type": "code",
   "execution_count": 18,
   "metadata": {},
   "outputs": [
    {
     "data": {
      "text/plain": [
       "10+    782\n",
       "1      497\n",
       "2      443\n",
       "3      352\n",
       "4      268\n",
       "5      211\n",
       "6      169\n",
       "7      125\n",
       "8      100\n",
       "9       79\n",
       "Name: PositionCredits, dtype: int64"
      ]
     },
     "execution_count": 18,
     "metadata": {},
     "output_type": "execute_result"
    }
   ],
   "source": [
    "characters.PositionCredits = characters.PositionCredits.apply(lambda l: '10+' if not l in ['1', '2', '3', '4', '5', '6', '7', '8', '9'] else l)  \n",
    "characters.PositionCredits.value_counts()"
   ]
  },
  {
   "cell_type": "markdown",
   "metadata": {},
   "source": [
    "Position Credits values are in improper state, unbalanced. Changing the values - 0 to 9 and rest of the elements as 10+"
   ]
  },
  {
   "cell_type": "markdown",
   "metadata": {},
   "source": [
    "# LINES Dataset Analysis - Preprocessing"
   ]
  },
  {
   "cell_type": "code",
   "execution_count": 86,
   "metadata": {},
   "outputs": [
    {
     "data": {
      "text/plain": [
       "(293202, 5)"
      ]
     },
     "execution_count": 86,
     "metadata": {},
     "output_type": "execute_result"
    }
   ],
   "source": [
    "lines.shape"
   ]
  },
  {
   "cell_type": "code",
   "execution_count": 20,
   "metadata": {},
   "outputs": [
    {
     "data": {
      "text/html": [
       "<div>\n",
       "<style scoped>\n",
       "    .dataframe tbody tr th:only-of-type {\n",
       "        vertical-align: middle;\n",
       "    }\n",
       "\n",
       "    .dataframe tbody tr th {\n",
       "        vertical-align: top;\n",
       "    }\n",
       "\n",
       "    .dataframe thead th {\n",
       "        text-align: right;\n",
       "    }\n",
       "</style>\n",
       "<table border=\"1\" class=\"dataframe\">\n",
       "  <thead>\n",
       "    <tr style=\"text-align: right;\">\n",
       "      <th></th>\n",
       "      <th>LineID</th>\n",
       "      <th>CharID</th>\n",
       "      <th>MovieID</th>\n",
       "      <th>CharName</th>\n",
       "      <th>Dialogue</th>\n",
       "    </tr>\n",
       "  </thead>\n",
       "  <tbody>\n",
       "    <tr>\n",
       "      <th>0</th>\n",
       "      <td>L1045</td>\n",
       "      <td>u0</td>\n",
       "      <td>m0</td>\n",
       "      <td>BIANCA</td>\n",
       "      <td>They do not!</td>\n",
       "    </tr>\n",
       "    <tr>\n",
       "      <th>1</th>\n",
       "      <td>L1044</td>\n",
       "      <td>u2</td>\n",
       "      <td>m0</td>\n",
       "      <td>CAMERON</td>\n",
       "      <td>They do to!</td>\n",
       "    </tr>\n",
       "    <tr>\n",
       "      <th>2</th>\n",
       "      <td>L985</td>\n",
       "      <td>u0</td>\n",
       "      <td>m0</td>\n",
       "      <td>BIANCA</td>\n",
       "      <td>I hope so.</td>\n",
       "    </tr>\n",
       "    <tr>\n",
       "      <th>3</th>\n",
       "      <td>L984</td>\n",
       "      <td>u2</td>\n",
       "      <td>m0</td>\n",
       "      <td>CAMERON</td>\n",
       "      <td>She okay?</td>\n",
       "    </tr>\n",
       "    <tr>\n",
       "      <th>4</th>\n",
       "      <td>L925</td>\n",
       "      <td>u0</td>\n",
       "      <td>m0</td>\n",
       "      <td>BIANCA</td>\n",
       "      <td>Let's go.</td>\n",
       "    </tr>\n",
       "  </tbody>\n",
       "</table>\n",
       "</div>"
      ],
      "text/plain": [
       "  LineID CharID MovieID CharName      Dialogue\n",
       "0  L1045     u0      m0   BIANCA  They do not!\n",
       "1  L1044     u2      m0  CAMERON   They do to!\n",
       "2   L985     u0      m0   BIANCA    I hope so.\n",
       "3   L984     u2      m0  CAMERON     She okay?\n",
       "4   L925     u0      m0   BIANCA     Let's go."
      ]
     },
     "execution_count": 20,
     "metadata": {},
     "output_type": "execute_result"
    }
   ],
   "source": [
    "lines.columns = ['LineID','CharID','MovieID','CharName','Dialogue']\n",
    "lines.head()"
   ]
  },
  {
   "cell_type": "code",
   "execution_count": 21,
   "metadata": {},
   "outputs": [
    {
     "data": {
      "text/html": [
       "<div>\n",
       "<style scoped>\n",
       "    .dataframe tbody tr th:only-of-type {\n",
       "        vertical-align: middle;\n",
       "    }\n",
       "\n",
       "    .dataframe tbody tr th {\n",
       "        vertical-align: top;\n",
       "    }\n",
       "\n",
       "    .dataframe thead th {\n",
       "        text-align: right;\n",
       "    }\n",
       "</style>\n",
       "<table border=\"1\" class=\"dataframe\">\n",
       "  <thead>\n",
       "    <tr style=\"text-align: right;\">\n",
       "      <th></th>\n",
       "      <th>LineID</th>\n",
       "      <th>CharID</th>\n",
       "      <th>MovieID</th>\n",
       "      <th>CharName</th>\n",
       "      <th>Dialogue</th>\n",
       "      <th>MovieName</th>\n",
       "      <th>Gender</th>\n",
       "      <th>PositionCredits</th>\n",
       "    </tr>\n",
       "  </thead>\n",
       "  <tbody>\n",
       "    <tr>\n",
       "      <th>0</th>\n",
       "      <td>L1045</td>\n",
       "      <td>u0</td>\n",
       "      <td>m0</td>\n",
       "      <td>BIANCA</td>\n",
       "      <td>They do not!</td>\n",
       "      <td>10 things i hate about you</td>\n",
       "      <td>1</td>\n",
       "      <td>4</td>\n",
       "    </tr>\n",
       "    <tr>\n",
       "      <th>1</th>\n",
       "      <td>L985</td>\n",
       "      <td>u0</td>\n",
       "      <td>m0</td>\n",
       "      <td>BIANCA</td>\n",
       "      <td>I hope so.</td>\n",
       "      <td>10 things i hate about you</td>\n",
       "      <td>1</td>\n",
       "      <td>4</td>\n",
       "    </tr>\n",
       "    <tr>\n",
       "      <th>2</th>\n",
       "      <td>L925</td>\n",
       "      <td>u0</td>\n",
       "      <td>m0</td>\n",
       "      <td>BIANCA</td>\n",
       "      <td>Let's go.</td>\n",
       "      <td>10 things i hate about you</td>\n",
       "      <td>1</td>\n",
       "      <td>4</td>\n",
       "    </tr>\n",
       "    <tr>\n",
       "      <th>3</th>\n",
       "      <td>L872</td>\n",
       "      <td>u0</td>\n",
       "      <td>m0</td>\n",
       "      <td>BIANCA</td>\n",
       "      <td>Okay -- you're gonna need to learn how to lie.</td>\n",
       "      <td>10 things i hate about you</td>\n",
       "      <td>1</td>\n",
       "      <td>4</td>\n",
       "    </tr>\n",
       "    <tr>\n",
       "      <th>4</th>\n",
       "      <td>L869</td>\n",
       "      <td>u0</td>\n",
       "      <td>m0</td>\n",
       "      <td>BIANCA</td>\n",
       "      <td>Like my fear of wearing pastels?</td>\n",
       "      <td>10 things i hate about you</td>\n",
       "      <td>1</td>\n",
       "      <td>4</td>\n",
       "    </tr>\n",
       "  </tbody>\n",
       "</table>\n",
       "</div>"
      ],
      "text/plain": [
       "  LineID CharID MovieID CharName  \\\n",
       "0  L1045     u0      m0   BIANCA   \n",
       "1   L985     u0      m0   BIANCA   \n",
       "2   L925     u0      m0   BIANCA   \n",
       "3   L872     u0      m0   BIANCA   \n",
       "4   L869     u0      m0   BIANCA   \n",
       "\n",
       "                                         Dialogue                   MovieName  \\\n",
       "0                                    They do not!  10 things i hate about you   \n",
       "1                                      I hope so.  10 things i hate about you   \n",
       "2                                       Let's go.  10 things i hate about you   \n",
       "3  Okay -- you're gonna need to learn how to lie.  10 things i hate about you   \n",
       "4                Like my fear of wearing pastels?  10 things i hate about you   \n",
       "\n",
       "   Gender PositionCredits  \n",
       "0       1               4  \n",
       "1       1               4  \n",
       "2       1               4  \n",
       "3       1               4  \n",
       "4       1               4  "
      ]
     },
     "execution_count": 21,
     "metadata": {},
     "output_type": "execute_result"
    }
   ],
   "source": [
    "Data1 = pd.merge(lines, characters, how='inner', on=['CharID','MovieID', 'CharName'])\n",
    "\n",
    "Data1.head()"
   ]
  },
  {
   "cell_type": "markdown",
   "metadata": {},
   "source": [
    "Adding labels to the dataset as columns Header and Merging Lines and Characters Datasets"
   ]
  },
  {
   "cell_type": "code",
   "execution_count": 22,
   "metadata": {},
   "outputs": [
    {
     "data": {
      "text/plain": [
       "(229309, 8)"
      ]
     },
     "execution_count": 22,
     "metadata": {},
     "output_type": "execute_result"
    }
   ],
   "source": [
    "Data1.shape"
   ]
  },
  {
   "cell_type": "code",
   "execution_count": 23,
   "metadata": {},
   "outputs": [
    {
     "data": {
      "text/plain": [
       "(229106, 8)"
      ]
     },
     "execution_count": 23,
     "metadata": {},
     "output_type": "execute_result"
    }
   ],
   "source": [
    "Data1 = Data1[Data1['Dialogue'].notnull()]\n",
    "Data1.shape"
   ]
  },
  {
   "cell_type": "markdown",
   "metadata": {},
   "source": [
    "# METADATA Dataset Analysis - Preprocessing"
   ]
  },
  {
   "cell_type": "code",
   "execution_count": 24,
   "metadata": {},
   "outputs": [
    {
     "data": {
      "text/plain": [
       "(617, 6)"
      ]
     },
     "execution_count": 24,
     "metadata": {},
     "output_type": "execute_result"
    }
   ],
   "source": [
    "metadata.shape"
   ]
  },
  {
   "cell_type": "code",
   "execution_count": 25,
   "metadata": {},
   "outputs": [
    {
     "data": {
      "text/html": [
       "<div>\n",
       "<style scoped>\n",
       "    .dataframe tbody tr th:only-of-type {\n",
       "        vertical-align: middle;\n",
       "    }\n",
       "\n",
       "    .dataframe tbody tr th {\n",
       "        vertical-align: top;\n",
       "    }\n",
       "\n",
       "    .dataframe thead th {\n",
       "        text-align: right;\n",
       "    }\n",
       "</style>\n",
       "<table border=\"1\" class=\"dataframe\">\n",
       "  <thead>\n",
       "    <tr style=\"text-align: right;\">\n",
       "      <th></th>\n",
       "      <th>0</th>\n",
       "      <th>1</th>\n",
       "      <th>2</th>\n",
       "      <th>3</th>\n",
       "      <th>4</th>\n",
       "      <th>5</th>\n",
       "    </tr>\n",
       "  </thead>\n",
       "  <tbody>\n",
       "    <tr>\n",
       "      <th>0</th>\n",
       "      <td>m0</td>\n",
       "      <td>10 things i hate about you</td>\n",
       "      <td>1999</td>\n",
       "      <td>6.9</td>\n",
       "      <td>62847.0</td>\n",
       "      <td>['comedy' 'romance']</td>\n",
       "    </tr>\n",
       "    <tr>\n",
       "      <th>1</th>\n",
       "      <td>m1</td>\n",
       "      <td>1492: conquest of paradise</td>\n",
       "      <td>1992</td>\n",
       "      <td>6.2</td>\n",
       "      <td>10421.0</td>\n",
       "      <td>['adventure' 'biography' 'drama' 'history']</td>\n",
       "    </tr>\n",
       "    <tr>\n",
       "      <th>2</th>\n",
       "      <td>m2</td>\n",
       "      <td>15 minutes</td>\n",
       "      <td>2001</td>\n",
       "      <td>6.1</td>\n",
       "      <td>25854.0</td>\n",
       "      <td>['action' 'crime' 'drama' 'thriller']</td>\n",
       "    </tr>\n",
       "    <tr>\n",
       "      <th>3</th>\n",
       "      <td>m3</td>\n",
       "      <td>2001: a space odyssey</td>\n",
       "      <td>1968</td>\n",
       "      <td>8.4</td>\n",
       "      <td>163227.0</td>\n",
       "      <td>['adventure' 'mystery' 'sci-fi']</td>\n",
       "    </tr>\n",
       "    <tr>\n",
       "      <th>4</th>\n",
       "      <td>m4</td>\n",
       "      <td>48 hrs.</td>\n",
       "      <td>1982</td>\n",
       "      <td>6.9</td>\n",
       "      <td>22289.0</td>\n",
       "      <td>['action' 'comedy' 'crime' 'drama' 'thriller']</td>\n",
       "    </tr>\n",
       "  </tbody>\n",
       "</table>\n",
       "</div>"
      ],
      "text/plain": [
       "    0                           1     2    3         4  \\\n",
       "0  m0  10 things i hate about you  1999  6.9   62847.0   \n",
       "1  m1  1492: conquest of paradise  1992  6.2   10421.0   \n",
       "2  m2                  15 minutes  2001  6.1   25854.0   \n",
       "3  m3       2001: a space odyssey  1968  8.4  163227.0   \n",
       "4  m4                     48 hrs.  1982  6.9   22289.0   \n",
       "\n",
       "                                                5  \n",
       "0                            ['comedy' 'romance']  \n",
       "1     ['adventure' 'biography' 'drama' 'history']  \n",
       "2           ['action' 'crime' 'drama' 'thriller']  \n",
       "3                ['adventure' 'mystery' 'sci-fi']  \n",
       "4  ['action' 'comedy' 'crime' 'drama' 'thriller']  "
      ]
     },
     "execution_count": 25,
     "metadata": {},
     "output_type": "execute_result"
    }
   ],
   "source": [
    "metadata.head()"
   ]
  },
  {
   "cell_type": "code",
   "execution_count": 26,
   "metadata": {},
   "outputs": [],
   "source": [
    "metadata.columns = ['MovieID','MovieName','ReleaseYear','Rating','Votes','Genres']"
   ]
  },
  {
   "cell_type": "code",
   "execution_count": 27,
   "metadata": {},
   "outputs": [
    {
     "data": {
      "text/html": [
       "<div>\n",
       "<style scoped>\n",
       "    .dataframe tbody tr th:only-of-type {\n",
       "        vertical-align: middle;\n",
       "    }\n",
       "\n",
       "    .dataframe tbody tr th {\n",
       "        vertical-align: top;\n",
       "    }\n",
       "\n",
       "    .dataframe thead th {\n",
       "        text-align: right;\n",
       "    }\n",
       "</style>\n",
       "<table border=\"1\" class=\"dataframe\">\n",
       "  <thead>\n",
       "    <tr style=\"text-align: right;\">\n",
       "      <th></th>\n",
       "      <th>MovieID</th>\n",
       "      <th>MovieName</th>\n",
       "      <th>ReleaseYear</th>\n",
       "      <th>Rating</th>\n",
       "      <th>Votes</th>\n",
       "      <th>Genres</th>\n",
       "    </tr>\n",
       "  </thead>\n",
       "  <tbody>\n",
       "    <tr>\n",
       "      <th>0</th>\n",
       "      <td>m0</td>\n",
       "      <td>10 things i hate about you</td>\n",
       "      <td>1999</td>\n",
       "      <td>6.9</td>\n",
       "      <td>62847.0</td>\n",
       "      <td>['comedy' 'romance']</td>\n",
       "    </tr>\n",
       "    <tr>\n",
       "      <th>1</th>\n",
       "      <td>m1</td>\n",
       "      <td>1492: conquest of paradise</td>\n",
       "      <td>1992</td>\n",
       "      <td>6.2</td>\n",
       "      <td>10421.0</td>\n",
       "      <td>['adventure' 'biography' 'drama' 'history']</td>\n",
       "    </tr>\n",
       "    <tr>\n",
       "      <th>2</th>\n",
       "      <td>m2</td>\n",
       "      <td>15 minutes</td>\n",
       "      <td>2001</td>\n",
       "      <td>6.1</td>\n",
       "      <td>25854.0</td>\n",
       "      <td>['action' 'crime' 'drama' 'thriller']</td>\n",
       "    </tr>\n",
       "    <tr>\n",
       "      <th>3</th>\n",
       "      <td>m3</td>\n",
       "      <td>2001: a space odyssey</td>\n",
       "      <td>1968</td>\n",
       "      <td>8.4</td>\n",
       "      <td>163227.0</td>\n",
       "      <td>['adventure' 'mystery' 'sci-fi']</td>\n",
       "    </tr>\n",
       "    <tr>\n",
       "      <th>4</th>\n",
       "      <td>m4</td>\n",
       "      <td>48 hrs.</td>\n",
       "      <td>1982</td>\n",
       "      <td>6.9</td>\n",
       "      <td>22289.0</td>\n",
       "      <td>['action' 'comedy' 'crime' 'drama' 'thriller']</td>\n",
       "    </tr>\n",
       "  </tbody>\n",
       "</table>\n",
       "</div>"
      ],
      "text/plain": [
       "  MovieID                   MovieName ReleaseYear  Rating     Votes  \\\n",
       "0      m0  10 things i hate about you        1999     6.9   62847.0   \n",
       "1      m1  1492: conquest of paradise        1992     6.2   10421.0   \n",
       "2      m2                  15 minutes        2001     6.1   25854.0   \n",
       "3      m3       2001: a space odyssey        1968     8.4  163227.0   \n",
       "4      m4                     48 hrs.        1982     6.9   22289.0   \n",
       "\n",
       "                                           Genres  \n",
       "0                            ['comedy' 'romance']  \n",
       "1     ['adventure' 'biography' 'drama' 'history']  \n",
       "2           ['action' 'crime' 'drama' 'thriller']  \n",
       "3                ['adventure' 'mystery' 'sci-fi']  \n",
       "4  ['action' 'comedy' 'crime' 'drama' 'thriller']  "
      ]
     },
     "execution_count": 27,
     "metadata": {},
     "output_type": "execute_result"
    }
   ],
   "source": [
    "metadata.head()"
   ]
  },
  {
   "cell_type": "markdown",
   "metadata": {},
   "source": [
    "Columns Header added, and Displayed"
   ]
  },
  {
   "cell_type": "code",
   "execution_count": 28,
   "metadata": {},
   "outputs": [
    {
     "data": {
      "text/plain": [
       "(617, 6)"
      ]
     },
     "execution_count": 28,
     "metadata": {},
     "output_type": "execute_result"
    }
   ],
   "source": [
    "metadata.shape"
   ]
  },
  {
   "cell_type": "code",
   "execution_count": 29,
   "metadata": {},
   "outputs": [],
   "source": [
    "Datameta = pd.merge(Data1, metadata, how='inner')"
   ]
  },
  {
   "cell_type": "code",
   "execution_count": 30,
   "metadata": {},
   "outputs": [
    {
     "data": {
      "text/html": [
       "<div>\n",
       "<style scoped>\n",
       "    .dataframe tbody tr th:only-of-type {\n",
       "        vertical-align: middle;\n",
       "    }\n",
       "\n",
       "    .dataframe tbody tr th {\n",
       "        vertical-align: top;\n",
       "    }\n",
       "\n",
       "    .dataframe thead th {\n",
       "        text-align: right;\n",
       "    }\n",
       "</style>\n",
       "<table border=\"1\" class=\"dataframe\">\n",
       "  <thead>\n",
       "    <tr style=\"text-align: right;\">\n",
       "      <th></th>\n",
       "      <th>LineID</th>\n",
       "      <th>CharID</th>\n",
       "      <th>MovieID</th>\n",
       "      <th>CharName</th>\n",
       "      <th>Dialogue</th>\n",
       "      <th>MovieName</th>\n",
       "      <th>Gender</th>\n",
       "      <th>PositionCredits</th>\n",
       "      <th>ReleaseYear</th>\n",
       "      <th>Rating</th>\n",
       "      <th>Votes</th>\n",
       "      <th>Genres</th>\n",
       "    </tr>\n",
       "  </thead>\n",
       "  <tbody>\n",
       "    <tr>\n",
       "      <th>0</th>\n",
       "      <td>L1045</td>\n",
       "      <td>u0</td>\n",
       "      <td>m0</td>\n",
       "      <td>BIANCA</td>\n",
       "      <td>They do not!</td>\n",
       "      <td>10 things i hate about you</td>\n",
       "      <td>1</td>\n",
       "      <td>4</td>\n",
       "      <td>1999</td>\n",
       "      <td>6.9</td>\n",
       "      <td>62847.0</td>\n",
       "      <td>['comedy' 'romance']</td>\n",
       "    </tr>\n",
       "    <tr>\n",
       "      <th>1</th>\n",
       "      <td>L985</td>\n",
       "      <td>u0</td>\n",
       "      <td>m0</td>\n",
       "      <td>BIANCA</td>\n",
       "      <td>I hope so.</td>\n",
       "      <td>10 things i hate about you</td>\n",
       "      <td>1</td>\n",
       "      <td>4</td>\n",
       "      <td>1999</td>\n",
       "      <td>6.9</td>\n",
       "      <td>62847.0</td>\n",
       "      <td>['comedy' 'romance']</td>\n",
       "    </tr>\n",
       "    <tr>\n",
       "      <th>2</th>\n",
       "      <td>L925</td>\n",
       "      <td>u0</td>\n",
       "      <td>m0</td>\n",
       "      <td>BIANCA</td>\n",
       "      <td>Let's go.</td>\n",
       "      <td>10 things i hate about you</td>\n",
       "      <td>1</td>\n",
       "      <td>4</td>\n",
       "      <td>1999</td>\n",
       "      <td>6.9</td>\n",
       "      <td>62847.0</td>\n",
       "      <td>['comedy' 'romance']</td>\n",
       "    </tr>\n",
       "    <tr>\n",
       "      <th>3</th>\n",
       "      <td>L872</td>\n",
       "      <td>u0</td>\n",
       "      <td>m0</td>\n",
       "      <td>BIANCA</td>\n",
       "      <td>Okay -- you're gonna need to learn how to lie.</td>\n",
       "      <td>10 things i hate about you</td>\n",
       "      <td>1</td>\n",
       "      <td>4</td>\n",
       "      <td>1999</td>\n",
       "      <td>6.9</td>\n",
       "      <td>62847.0</td>\n",
       "      <td>['comedy' 'romance']</td>\n",
       "    </tr>\n",
       "    <tr>\n",
       "      <th>4</th>\n",
       "      <td>L869</td>\n",
       "      <td>u0</td>\n",
       "      <td>m0</td>\n",
       "      <td>BIANCA</td>\n",
       "      <td>Like my fear of wearing pastels?</td>\n",
       "      <td>10 things i hate about you</td>\n",
       "      <td>1</td>\n",
       "      <td>4</td>\n",
       "      <td>1999</td>\n",
       "      <td>6.9</td>\n",
       "      <td>62847.0</td>\n",
       "      <td>['comedy' 'romance']</td>\n",
       "    </tr>\n",
       "  </tbody>\n",
       "</table>\n",
       "</div>"
      ],
      "text/plain": [
       "  LineID CharID MovieID CharName  \\\n",
       "0  L1045     u0      m0   BIANCA   \n",
       "1   L985     u0      m0   BIANCA   \n",
       "2   L925     u0      m0   BIANCA   \n",
       "3   L872     u0      m0   BIANCA   \n",
       "4   L869     u0      m0   BIANCA   \n",
       "\n",
       "                                         Dialogue                   MovieName  \\\n",
       "0                                    They do not!  10 things i hate about you   \n",
       "1                                      I hope so.  10 things i hate about you   \n",
       "2                                       Let's go.  10 things i hate about you   \n",
       "3  Okay -- you're gonna need to learn how to lie.  10 things i hate about you   \n",
       "4                Like my fear of wearing pastels?  10 things i hate about you   \n",
       "\n",
       "   Gender PositionCredits ReleaseYear  Rating    Votes                Genres  \n",
       "0       1               4        1999     6.9  62847.0  ['comedy' 'romance']  \n",
       "1       1               4        1999     6.9  62847.0  ['comedy' 'romance']  \n",
       "2       1               4        1999     6.9  62847.0  ['comedy' 'romance']  \n",
       "3       1               4        1999     6.9  62847.0  ['comedy' 'romance']  \n",
       "4       1               4        1999     6.9  62847.0  ['comedy' 'romance']  "
      ]
     },
     "execution_count": 30,
     "metadata": {},
     "output_type": "execute_result"
    }
   ],
   "source": [
    "Datameta.head()"
   ]
  },
  {
   "cell_type": "markdown",
   "metadata": {},
   "source": [
    "Merged Metadata with Data1 File(Lines, Characters)"
   ]
  },
  {
   "cell_type": "markdown",
   "metadata": {},
   "source": [
    "# Finding the Dailogues length and Dailogues Word Count Values"
   ]
  },
  {
   "cell_type": "code",
   "execution_count": 31,
   "metadata": {},
   "outputs": [
    {
     "data": {
      "text/html": [
       "<div>\n",
       "<style scoped>\n",
       "    .dataframe tbody tr th:only-of-type {\n",
       "        vertical-align: middle;\n",
       "    }\n",
       "\n",
       "    .dataframe tbody tr th {\n",
       "        vertical-align: top;\n",
       "    }\n",
       "\n",
       "    .dataframe thead th {\n",
       "        text-align: right;\n",
       "    }\n",
       "</style>\n",
       "<table border=\"1\" class=\"dataframe\">\n",
       "  <thead>\n",
       "    <tr style=\"text-align: right;\">\n",
       "      <th></th>\n",
       "      <th>LineID</th>\n",
       "      <th>CharID</th>\n",
       "      <th>MovieID</th>\n",
       "      <th>CharName</th>\n",
       "      <th>Dialogue</th>\n",
       "      <th>MovieName</th>\n",
       "      <th>Gender</th>\n",
       "      <th>PositionCredits</th>\n",
       "      <th>ReleaseYear</th>\n",
       "      <th>Rating</th>\n",
       "      <th>Votes</th>\n",
       "      <th>Genres</th>\n",
       "      <th>Dailogue_Length</th>\n",
       "      <th>Dailogue_Word_Count</th>\n",
       "    </tr>\n",
       "  </thead>\n",
       "  <tbody>\n",
       "    <tr>\n",
       "      <th>0</th>\n",
       "      <td>L1045</td>\n",
       "      <td>u0</td>\n",
       "      <td>m0</td>\n",
       "      <td>BIANCA</td>\n",
       "      <td>They do not!</td>\n",
       "      <td>10 things i hate about you</td>\n",
       "      <td>1</td>\n",
       "      <td>4</td>\n",
       "      <td>1999</td>\n",
       "      <td>6.9</td>\n",
       "      <td>62847.0</td>\n",
       "      <td>['comedy' 'romance']</td>\n",
       "      <td>12</td>\n",
       "      <td>3</td>\n",
       "    </tr>\n",
       "    <tr>\n",
       "      <th>1</th>\n",
       "      <td>L985</td>\n",
       "      <td>u0</td>\n",
       "      <td>m0</td>\n",
       "      <td>BIANCA</td>\n",
       "      <td>I hope so.</td>\n",
       "      <td>10 things i hate about you</td>\n",
       "      <td>1</td>\n",
       "      <td>4</td>\n",
       "      <td>1999</td>\n",
       "      <td>6.9</td>\n",
       "      <td>62847.0</td>\n",
       "      <td>['comedy' 'romance']</td>\n",
       "      <td>10</td>\n",
       "      <td>3</td>\n",
       "    </tr>\n",
       "    <tr>\n",
       "      <th>2</th>\n",
       "      <td>L925</td>\n",
       "      <td>u0</td>\n",
       "      <td>m0</td>\n",
       "      <td>BIANCA</td>\n",
       "      <td>Let's go.</td>\n",
       "      <td>10 things i hate about you</td>\n",
       "      <td>1</td>\n",
       "      <td>4</td>\n",
       "      <td>1999</td>\n",
       "      <td>6.9</td>\n",
       "      <td>62847.0</td>\n",
       "      <td>['comedy' 'romance']</td>\n",
       "      <td>9</td>\n",
       "      <td>2</td>\n",
       "    </tr>\n",
       "    <tr>\n",
       "      <th>3</th>\n",
       "      <td>L872</td>\n",
       "      <td>u0</td>\n",
       "      <td>m0</td>\n",
       "      <td>BIANCA</td>\n",
       "      <td>Okay -- you're gonna need to learn how to lie.</td>\n",
       "      <td>10 things i hate about you</td>\n",
       "      <td>1</td>\n",
       "      <td>4</td>\n",
       "      <td>1999</td>\n",
       "      <td>6.9</td>\n",
       "      <td>62847.0</td>\n",
       "      <td>['comedy' 'romance']</td>\n",
       "      <td>46</td>\n",
       "      <td>10</td>\n",
       "    </tr>\n",
       "    <tr>\n",
       "      <th>4</th>\n",
       "      <td>L869</td>\n",
       "      <td>u0</td>\n",
       "      <td>m0</td>\n",
       "      <td>BIANCA</td>\n",
       "      <td>Like my fear of wearing pastels?</td>\n",
       "      <td>10 things i hate about you</td>\n",
       "      <td>1</td>\n",
       "      <td>4</td>\n",
       "      <td>1999</td>\n",
       "      <td>6.9</td>\n",
       "      <td>62847.0</td>\n",
       "      <td>['comedy' 'romance']</td>\n",
       "      <td>32</td>\n",
       "      <td>6</td>\n",
       "    </tr>\n",
       "  </tbody>\n",
       "</table>\n",
       "</div>"
      ],
      "text/plain": [
       "  LineID CharID MovieID CharName  \\\n",
       "0  L1045     u0      m0   BIANCA   \n",
       "1   L985     u0      m0   BIANCA   \n",
       "2   L925     u0      m0   BIANCA   \n",
       "3   L872     u0      m0   BIANCA   \n",
       "4   L869     u0      m0   BIANCA   \n",
       "\n",
       "                                         Dialogue                   MovieName  \\\n",
       "0                                    They do not!  10 things i hate about you   \n",
       "1                                      I hope so.  10 things i hate about you   \n",
       "2                                       Let's go.  10 things i hate about you   \n",
       "3  Okay -- you're gonna need to learn how to lie.  10 things i hate about you   \n",
       "4                Like my fear of wearing pastels?  10 things i hate about you   \n",
       "\n",
       "   Gender PositionCredits ReleaseYear  Rating    Votes                Genres  \\\n",
       "0       1               4        1999     6.9  62847.0  ['comedy' 'romance']   \n",
       "1       1               4        1999     6.9  62847.0  ['comedy' 'romance']   \n",
       "2       1               4        1999     6.9  62847.0  ['comedy' 'romance']   \n",
       "3       1               4        1999     6.9  62847.0  ['comedy' 'romance']   \n",
       "4       1               4        1999     6.9  62847.0  ['comedy' 'romance']   \n",
       "\n",
       "   Dailogue_Length  Dailogue_Word_Count  \n",
       "0               12                    3  \n",
       "1               10                    3  \n",
       "2                9                    2  \n",
       "3               46                   10  \n",
       "4               32                    6  "
      ]
     },
     "execution_count": 31,
     "metadata": {},
     "output_type": "execute_result"
    }
   ],
   "source": [
    "Datameta['Dailogue_Length'] = Datameta.Dialogue.str.len()            \n",
    "Datameta['Dailogue_Word_Count'] = Datameta.Dialogue.str.count(' ') + 1 \n",
    "Datameta.head()"
   ]
  },
  {
   "cell_type": "code",
   "execution_count": 32,
   "metadata": {},
   "outputs": [
    {
     "data": {
      "text/plain": [
       "(2714, 1)"
      ]
     },
     "execution_count": 32,
     "metadata": {},
     "output_type": "execute_result"
    }
   ],
   "source": [
    "max(Datameta.Dailogue_Length), min(Datameta.Dailogue_Length)"
   ]
  },
  {
   "cell_type": "code",
   "execution_count": 33,
   "metadata": {},
   "outputs": [
    {
     "data": {
      "text/plain": [
       "(485, 1)"
      ]
     },
     "execution_count": 33,
     "metadata": {},
     "output_type": "execute_result"
    }
   ],
   "source": [
    "max(Datameta.Dailogue_Word_Count), min(Datameta.Dailogue_Word_Count)"
   ]
  },
  {
   "cell_type": "code",
   "execution_count": 34,
   "metadata": {},
   "outputs": [],
   "source": [
    "Datameta.Dailogue_Length_Median = median(Datameta.Dailogue_Length)\n",
    "Datameta.Dailogue_Word_Count_Median = median(Datameta.Dailogue_Word_Count)"
   ]
  },
  {
   "cell_type": "code",
   "execution_count": 35,
   "metadata": {},
   "outputs": [
    {
     "data": {
      "text/html": [
       "<div>\n",
       "<style scoped>\n",
       "    .dataframe tbody tr th:only-of-type {\n",
       "        vertical-align: middle;\n",
       "    }\n",
       "\n",
       "    .dataframe tbody tr th {\n",
       "        vertical-align: top;\n",
       "    }\n",
       "\n",
       "    .dataframe thead th {\n",
       "        text-align: right;\n",
       "    }\n",
       "</style>\n",
       "<table border=\"1\" class=\"dataframe\">\n",
       "  <thead>\n",
       "    <tr style=\"text-align: right;\">\n",
       "      <th></th>\n",
       "      <th>LineID</th>\n",
       "      <th>CharID</th>\n",
       "      <th>MovieID</th>\n",
       "      <th>CharName</th>\n",
       "      <th>Dialogue</th>\n",
       "      <th>MovieName</th>\n",
       "      <th>Gender</th>\n",
       "      <th>PositionCredits</th>\n",
       "      <th>ReleaseYear</th>\n",
       "      <th>Rating</th>\n",
       "      <th>Votes</th>\n",
       "      <th>Genres</th>\n",
       "      <th>Dailogue_Length</th>\n",
       "      <th>Dailogue_Word_Count</th>\n",
       "    </tr>\n",
       "  </thead>\n",
       "  <tbody>\n",
       "    <tr>\n",
       "      <th>0</th>\n",
       "      <td>L1045</td>\n",
       "      <td>u0</td>\n",
       "      <td>m0</td>\n",
       "      <td>BIANCA</td>\n",
       "      <td>They do not!</td>\n",
       "      <td>10 things i hate about you</td>\n",
       "      <td>1</td>\n",
       "      <td>4</td>\n",
       "      <td>1999</td>\n",
       "      <td>6.9</td>\n",
       "      <td>62847.0</td>\n",
       "      <td>['comedy' 'romance']</td>\n",
       "      <td>12</td>\n",
       "      <td>3</td>\n",
       "    </tr>\n",
       "    <tr>\n",
       "      <th>1</th>\n",
       "      <td>L985</td>\n",
       "      <td>u0</td>\n",
       "      <td>m0</td>\n",
       "      <td>BIANCA</td>\n",
       "      <td>I hope so.</td>\n",
       "      <td>10 things i hate about you</td>\n",
       "      <td>1</td>\n",
       "      <td>4</td>\n",
       "      <td>1999</td>\n",
       "      <td>6.9</td>\n",
       "      <td>62847.0</td>\n",
       "      <td>['comedy' 'romance']</td>\n",
       "      <td>10</td>\n",
       "      <td>3</td>\n",
       "    </tr>\n",
       "    <tr>\n",
       "      <th>2</th>\n",
       "      <td>L925</td>\n",
       "      <td>u0</td>\n",
       "      <td>m0</td>\n",
       "      <td>BIANCA</td>\n",
       "      <td>Let's go.</td>\n",
       "      <td>10 things i hate about you</td>\n",
       "      <td>1</td>\n",
       "      <td>4</td>\n",
       "      <td>1999</td>\n",
       "      <td>6.9</td>\n",
       "      <td>62847.0</td>\n",
       "      <td>['comedy' 'romance']</td>\n",
       "      <td>9</td>\n",
       "      <td>2</td>\n",
       "    </tr>\n",
       "    <tr>\n",
       "      <th>3</th>\n",
       "      <td>L872</td>\n",
       "      <td>u0</td>\n",
       "      <td>m0</td>\n",
       "      <td>BIANCA</td>\n",
       "      <td>Okay -- you're gonna need to learn how to lie.</td>\n",
       "      <td>10 things i hate about you</td>\n",
       "      <td>1</td>\n",
       "      <td>4</td>\n",
       "      <td>1999</td>\n",
       "      <td>6.9</td>\n",
       "      <td>62847.0</td>\n",
       "      <td>['comedy' 'romance']</td>\n",
       "      <td>46</td>\n",
       "      <td>10</td>\n",
       "    </tr>\n",
       "    <tr>\n",
       "      <th>4</th>\n",
       "      <td>L869</td>\n",
       "      <td>u0</td>\n",
       "      <td>m0</td>\n",
       "      <td>BIANCA</td>\n",
       "      <td>Like my fear of wearing pastels?</td>\n",
       "      <td>10 things i hate about you</td>\n",
       "      <td>1</td>\n",
       "      <td>4</td>\n",
       "      <td>1999</td>\n",
       "      <td>6.9</td>\n",
       "      <td>62847.0</td>\n",
       "      <td>['comedy' 'romance']</td>\n",
       "      <td>32</td>\n",
       "      <td>6</td>\n",
       "    </tr>\n",
       "  </tbody>\n",
       "</table>\n",
       "</div>"
      ],
      "text/plain": [
       "  LineID CharID MovieID CharName  \\\n",
       "0  L1045     u0      m0   BIANCA   \n",
       "1   L985     u0      m0   BIANCA   \n",
       "2   L925     u0      m0   BIANCA   \n",
       "3   L872     u0      m0   BIANCA   \n",
       "4   L869     u0      m0   BIANCA   \n",
       "\n",
       "                                         Dialogue                   MovieName  \\\n",
       "0                                    They do not!  10 things i hate about you   \n",
       "1                                      I hope so.  10 things i hate about you   \n",
       "2                                       Let's go.  10 things i hate about you   \n",
       "3  Okay -- you're gonna need to learn how to lie.  10 things i hate about you   \n",
       "4                Like my fear of wearing pastels?  10 things i hate about you   \n",
       "\n",
       "   Gender PositionCredits ReleaseYear  Rating    Votes                Genres  \\\n",
       "0       1               4        1999     6.9  62847.0  ['comedy' 'romance']   \n",
       "1       1               4        1999     6.9  62847.0  ['comedy' 'romance']   \n",
       "2       1               4        1999     6.9  62847.0  ['comedy' 'romance']   \n",
       "3       1               4        1999     6.9  62847.0  ['comedy' 'romance']   \n",
       "4       1               4        1999     6.9  62847.0  ['comedy' 'romance']   \n",
       "\n",
       "   Dailogue_Length  Dailogue_Word_Count  \n",
       "0               12                    3  \n",
       "1               10                    3  \n",
       "2                9                    2  \n",
       "3               46                   10  \n",
       "4               32                    6  "
      ]
     },
     "execution_count": 35,
     "metadata": {},
     "output_type": "execute_result"
    }
   ],
   "source": [
    "Datameta.head()"
   ]
  },
  {
   "cell_type": "code",
   "execution_count": 87,
   "metadata": {},
   "outputs": [
    {
     "data": {
      "image/png": "[encoded data removed]",
      "text/plain": [
       "<Figure size 288x216 with 1 Axes>"
      ]
     },
     "metadata": {
      "needs_background": "light"
     },
     "output_type": "display_data"
    }
   ],
   "source": [
    "fig = plt.figure(figsize =(4, 3))\n",
    "ax = fig.add_axes([0, 0, 1, 1])\n",
    "bp = ax.boxplot([ Datameta.Dailogue_Word_Count, Datameta.Dailogue_Length ])\n",
    "plt.show()"
   ]
  },
  {
   "cell_type": "code",
   "execution_count": 37,
   "metadata": {},
   "outputs": [
    {
     "name": "stderr",
     "output_type": "stream",
     "text": [
      "C:\\Users\\Rajesh Kumar\\Anaconda3\\lib\\site-packages\\ipykernel_launcher.py:9: FutureWarning: Index.ravel returning ndarray is deprecated; in a future version this will return a view on self.\n",
      "  if __name__ == '__main__':\n"
     ]
    },
    {
     "data": {
      "text/html": [
       "<div>\n",
       "<style scoped>\n",
       "    .dataframe tbody tr th:only-of-type {\n",
       "        vertical-align: middle;\n",
       "    }\n",
       "\n",
       "    .dataframe tbody tr th {\n",
       "        vertical-align: top;\n",
       "    }\n",
       "\n",
       "    .dataframe thead th {\n",
       "        text-align: right;\n",
       "    }\n",
       "</style>\n",
       "<table border=\"1\" class=\"dataframe\">\n",
       "  <thead>\n",
       "    <tr style=\"text-align: right;\">\n",
       "      <th></th>\n",
       "      <th>CharID</th>\n",
       "      <th>MovieID</th>\n",
       "      <th>CharName</th>\n",
       "      <th>Gender</th>\n",
       "      <th>PositionCredits</th>\n",
       "      <th>ReleaseYear</th>\n",
       "      <th>Dailogue_Length_median</th>\n",
       "      <th>Dailogue_Word_Count_median</th>\n",
       "      <th>CharID_count</th>\n",
       "      <th>Dialogue_&lt;lambda&gt;</th>\n",
       "    </tr>\n",
       "  </thead>\n",
       "  <tbody>\n",
       "    <tr>\n",
       "      <th>0</th>\n",
       "      <td>u0</td>\n",
       "      <td>m0</td>\n",
       "      <td>BIANCA</td>\n",
       "      <td>1</td>\n",
       "      <td>4</td>\n",
       "      <td>1999</td>\n",
       "      <td>34.0</td>\n",
       "      <td>7.0</td>\n",
       "      <td>94</td>\n",
       "      <td>They do not! I hope so. Let's go. Okay -- you'...</td>\n",
       "    </tr>\n",
       "    <tr>\n",
       "      <th>1</th>\n",
       "      <td>u100</td>\n",
       "      <td>m6</td>\n",
       "      <td>AMY</td>\n",
       "      <td>1</td>\n",
       "      <td>7</td>\n",
       "      <td>1999</td>\n",
       "      <td>23.0</td>\n",
       "      <td>4.0</td>\n",
       "      <td>31</td>\n",
       "      <td>She died in her sleep three days ago.  It was ...</td>\n",
       "    </tr>\n",
       "    <tr>\n",
       "      <th>2</th>\n",
       "      <td>u1003</td>\n",
       "      <td>m65</td>\n",
       "      <td>RICHARD</td>\n",
       "      <td>0</td>\n",
       "      <td>3</td>\n",
       "      <td>1996</td>\n",
       "      <td>24.5</td>\n",
       "      <td>5.0</td>\n",
       "      <td>70</td>\n",
       "      <td>You asked me if I would -- What you said to me...</td>\n",
       "    </tr>\n",
       "    <tr>\n",
       "      <th>3</th>\n",
       "      <td>u1005</td>\n",
       "      <td>m65</td>\n",
       "      <td>SETH</td>\n",
       "      <td>0</td>\n",
       "      <td>2</td>\n",
       "      <td>1996</td>\n",
       "      <td>37.0</td>\n",
       "      <td>8.0</td>\n",
       "      <td>163</td>\n",
       "      <td>So let's do it. So do I just follow you? I sai...</td>\n",
       "    </tr>\n",
       "    <tr>\n",
       "      <th>4</th>\n",
       "      <td>u1008</td>\n",
       "      <td>m66</td>\n",
       "      <td>C.O.</td>\n",
       "      <td>0</td>\n",
       "      <td>10+</td>\n",
       "      <td>1997</td>\n",
       "      <td>48.0</td>\n",
       "      <td>9.0</td>\n",
       "      <td>33</td>\n",
       "      <td>Of course but there's more -- Uh V.I.P. securi...</td>\n",
       "    </tr>\n",
       "    <tr>\n",
       "      <th>...</th>\n",
       "      <td>...</td>\n",
       "      <td>...</td>\n",
       "      <td>...</td>\n",
       "      <td>...</td>\n",
       "      <td>...</td>\n",
       "      <td>...</td>\n",
       "      <td>...</td>\n",
       "      <td>...</td>\n",
       "      <td>...</td>\n",
       "      <td>...</td>\n",
       "    </tr>\n",
       "    <tr>\n",
       "      <th>2946</th>\n",
       "      <td>u980</td>\n",
       "      <td>m63</td>\n",
       "      <td>VICTOR</td>\n",
       "      <td>0</td>\n",
       "      <td>3</td>\n",
       "      <td>1931</td>\n",
       "      <td>32.0</td>\n",
       "      <td>6.0</td>\n",
       "      <td>126</td>\n",
       "      <td>SHE'LL NEVER BE YOURS! SHE SAID MY NAME! SHE R...</td>\n",
       "    </tr>\n",
       "    <tr>\n",
       "      <th>2947</th>\n",
       "      <td>u983</td>\n",
       "      <td>m64</td>\n",
       "      <td>ALICE</td>\n",
       "      <td>1</td>\n",
       "      <td>10+</td>\n",
       "      <td>2009</td>\n",
       "      <td>30.0</td>\n",
       "      <td>6.0</td>\n",
       "      <td>51</td>\n",
       "      <td>Maybe we should wait for Mr. Christy. The kill...</td>\n",
       "    </tr>\n",
       "    <tr>\n",
       "      <th>2948</th>\n",
       "      <td>u985</td>\n",
       "      <td>m64</td>\n",
       "      <td>BILL</td>\n",
       "      <td>0</td>\n",
       "      <td>10+</td>\n",
       "      <td>2009</td>\n",
       "      <td>20.0</td>\n",
       "      <td>4.0</td>\n",
       "      <td>39</td>\n",
       "      <td>It's over twenty miles to the crossroads. Stev...</td>\n",
       "    </tr>\n",
       "    <tr>\n",
       "      <th>2949</th>\n",
       "      <td>u997</td>\n",
       "      <td>m65</td>\n",
       "      <td>JACOB</td>\n",
       "      <td>0</td>\n",
       "      <td>1</td>\n",
       "      <td>1996</td>\n",
       "      <td>36.0</td>\n",
       "      <td>6.0</td>\n",
       "      <td>90</td>\n",
       "      <td>I meant me my son and my daughter. Oh that's j...</td>\n",
       "    </tr>\n",
       "    <tr>\n",
       "      <th>2950</th>\n",
       "      <td>u998</td>\n",
       "      <td>m65</td>\n",
       "      <td>KATE</td>\n",
       "      <td>1</td>\n",
       "      <td>4</td>\n",
       "      <td>1996</td>\n",
       "      <td>20.0</td>\n",
       "      <td>4.5</td>\n",
       "      <td>44</td>\n",
       "      <td>Everybody goes home! I'm going for 'em! I swea...</td>\n",
       "    </tr>\n",
       "  </tbody>\n",
       "</table>\n",
       "<p>2951 rows × 10 columns</p>\n",
       "</div>"
      ],
      "text/plain": [
       "     CharID MovieID CharName  Gender PositionCredits ReleaseYear  \\\n",
       "0        u0      m0   BIANCA       1               4        1999   \n",
       "1      u100      m6      AMY       1               7        1999   \n",
       "2     u1003     m65  RICHARD       0               3        1996   \n",
       "3     u1005     m65     SETH       0               2        1996   \n",
       "4     u1008     m66     C.O.       0             10+        1997   \n",
       "...     ...     ...      ...     ...             ...         ...   \n",
       "2946   u980     m63   VICTOR       0               3        1931   \n",
       "2947   u983     m64    ALICE       1             10+        2009   \n",
       "2948   u985     m64     BILL       0             10+        2009   \n",
       "2949   u997     m65    JACOB       0               1        1996   \n",
       "2950   u998     m65     KATE       1               4        1996   \n",
       "\n",
       "      Dailogue_Length_median  Dailogue_Word_Count_median  CharID_count  \\\n",
       "0                       34.0                         7.0            94   \n",
       "1                       23.0                         4.0            31   \n",
       "2                       24.5                         5.0            70   \n",
       "3                       37.0                         8.0           163   \n",
       "4                       48.0                         9.0            33   \n",
       "...                      ...                         ...           ...   \n",
       "2946                    32.0                         6.0           126   \n",
       "2947                    30.0                         6.0            51   \n",
       "2948                    20.0                         4.0            39   \n",
       "2949                    36.0                         6.0            90   \n",
       "2950                    20.0                         4.5            44   \n",
       "\n",
       "                                      Dialogue_<lambda>  \n",
       "0     They do not! I hope so. Let's go. Okay -- you'...  \n",
       "1     She died in her sleep three days ago.  It was ...  \n",
       "2     You asked me if I would -- What you said to me...  \n",
       "3     So let's do it. So do I just follow you? I sai...  \n",
       "4     Of course but there's more -- Uh V.I.P. securi...  \n",
       "...                                                 ...  \n",
       "2946  SHE'LL NEVER BE YOURS! SHE SAID MY NAME! SHE R...  \n",
       "2947  Maybe we should wait for Mr. Christy. The kill...  \n",
       "2948  It's over twenty miles to the crossroads. Stev...  \n",
       "2949  I meant me my son and my daughter. Oh that's j...  \n",
       "2950  Everybody goes home! I'm going for 'em! I swea...  \n",
       "\n",
       "[2951 rows x 10 columns]"
      ]
     },
     "execution_count": 37,
     "metadata": {},
     "output_type": "execute_result"
    }
   ],
   "source": [
    "train = Datameta.groupby(['CharID', 'MovieID', 'CharName', 'Gender', 'PositionCredits','ReleaseYear']). \\\n",
    "            agg({'Dailogue_Length' : ['median'], \n",
    "                 'Dailogue_Word_Count' : ['median'],\n",
    "                 'CharID' : ['count'],\n",
    "                 'Dialogue' : [lambda x : ' '.join(x)]\n",
    "                })\n",
    "\n",
    "## Renaming columns by aggregate functions\n",
    "train.columns = [\"_\".join(x) for x in train.columns.ravel()]\n",
    "\n",
    "train.reset_index(inplace=True)\n",
    "train"
   ]
  },
  {
   "cell_type": "markdown",
   "metadata": {},
   "source": [
    "Finding the Dailogue_Length_median  and Dailogue_Word_Count_median using Aggregate Functions\n",
    "And also finding count of the characterID count and shown in CharID_count"
   ]
  },
  {
   "cell_type": "markdown",
   "metadata": {},
   "source": [
    "# Data Modeling - Feature Engineering"
   ]
  },
  {
   "cell_type": "code",
   "execution_count": 38,
   "metadata": {},
   "outputs": [
    {
     "data": {
      "text/html": [
       "<div>\n",
       "<style scoped>\n",
       "    .dataframe tbody tr th:only-of-type {\n",
       "        vertical-align: middle;\n",
       "    }\n",
       "\n",
       "    .dataframe tbody tr th {\n",
       "        vertical-align: top;\n",
       "    }\n",
       "\n",
       "    .dataframe thead th {\n",
       "        text-align: right;\n",
       "    }\n",
       "</style>\n",
       "<table border=\"1\" class=\"dataframe\">\n",
       "  <thead>\n",
       "    <tr style=\"text-align: right;\">\n",
       "      <th></th>\n",
       "      <th>CharID</th>\n",
       "      <th>MovieID</th>\n",
       "      <th>CharName</th>\n",
       "      <th>Gender</th>\n",
       "      <th>PositionCredits</th>\n",
       "      <th>ReleaseYear</th>\n",
       "      <th>Dailogue_Length_median</th>\n",
       "      <th>Dailogue_Word_Count_median</th>\n",
       "      <th>CharID_count</th>\n",
       "      <th>Dialogue_&lt;lambda&gt;</th>\n",
       "    </tr>\n",
       "  </thead>\n",
       "  <tbody>\n",
       "    <tr>\n",
       "      <th>0</th>\n",
       "      <td>u0</td>\n",
       "      <td>m0</td>\n",
       "      <td>BIANCA</td>\n",
       "      <td>1</td>\n",
       "      <td>4</td>\n",
       "      <td>1999</td>\n",
       "      <td>34.0</td>\n",
       "      <td>7.0</td>\n",
       "      <td>94</td>\n",
       "      <td>They do not! I hope so. Let's go. Okay -- you'...</td>\n",
       "    </tr>\n",
       "    <tr>\n",
       "      <th>1</th>\n",
       "      <td>u100</td>\n",
       "      <td>m6</td>\n",
       "      <td>AMY</td>\n",
       "      <td>1</td>\n",
       "      <td>7</td>\n",
       "      <td>1999</td>\n",
       "      <td>23.0</td>\n",
       "      <td>4.0</td>\n",
       "      <td>31</td>\n",
       "      <td>She died in her sleep three days ago.  It was ...</td>\n",
       "    </tr>\n",
       "    <tr>\n",
       "      <th>2</th>\n",
       "      <td>u1003</td>\n",
       "      <td>m65</td>\n",
       "      <td>RICHARD</td>\n",
       "      <td>0</td>\n",
       "      <td>3</td>\n",
       "      <td>1996</td>\n",
       "      <td>24.5</td>\n",
       "      <td>5.0</td>\n",
       "      <td>70</td>\n",
       "      <td>You asked me if I would -- What you said to me...</td>\n",
       "    </tr>\n",
       "    <tr>\n",
       "      <th>3</th>\n",
       "      <td>u1005</td>\n",
       "      <td>m65</td>\n",
       "      <td>SETH</td>\n",
       "      <td>0</td>\n",
       "      <td>2</td>\n",
       "      <td>1996</td>\n",
       "      <td>37.0</td>\n",
       "      <td>8.0</td>\n",
       "      <td>163</td>\n",
       "      <td>So let's do it. So do I just follow you? I sai...</td>\n",
       "    </tr>\n",
       "    <tr>\n",
       "      <th>4</th>\n",
       "      <td>u1008</td>\n",
       "      <td>m66</td>\n",
       "      <td>C.O.</td>\n",
       "      <td>0</td>\n",
       "      <td>10+</td>\n",
       "      <td>1997</td>\n",
       "      <td>48.0</td>\n",
       "      <td>9.0</td>\n",
       "      <td>33</td>\n",
       "      <td>Of course but there's more -- Uh V.I.P. securi...</td>\n",
       "    </tr>\n",
       "  </tbody>\n",
       "</table>\n",
       "</div>"
      ],
      "text/plain": [
       "  CharID MovieID CharName  Gender PositionCredits ReleaseYear  \\\n",
       "0     u0      m0   BIANCA       1               4        1999   \n",
       "1   u100      m6      AMY       1               7        1999   \n",
       "2  u1003     m65  RICHARD       0               3        1996   \n",
       "3  u1005     m65     SETH       0               2        1996   \n",
       "4  u1008     m66     C.O.       0             10+        1997   \n",
       "\n",
       "   Dailogue_Length_median  Dailogue_Word_Count_median  CharID_count  \\\n",
       "0                    34.0                         7.0            94   \n",
       "1                    23.0                         4.0            31   \n",
       "2                    24.5                         5.0            70   \n",
       "3                    37.0                         8.0           163   \n",
       "4                    48.0                         9.0            33   \n",
       "\n",
       "                                   Dialogue_<lambda>  \n",
       "0  They do not! I hope so. Let's go. Okay -- you'...  \n",
       "1  She died in her sleep three days ago.  It was ...  \n",
       "2  You asked me if I would -- What you said to me...  \n",
       "3  So let's do it. So do I just follow you? I sai...  \n",
       "4  Of course but there's more -- Uh V.I.P. securi...  "
      ]
     },
     "execution_count": 38,
     "metadata": {},
     "output_type": "execute_result"
    }
   ],
   "source": [
    "train.head()"
   ]
  },
  {
   "cell_type": "code",
   "execution_count": 39,
   "metadata": {},
   "outputs": [],
   "source": [
    "X = train.copy()\n",
    "y = train['Gender']"
   ]
  },
  {
   "cell_type": "markdown",
   "metadata": {},
   "source": [
    "Dependent and Independent Attributes Creation"
   ]
  },
  {
   "cell_type": "code",
   "execution_count": 40,
   "metadata": {},
   "outputs": [
    {
     "data": {
      "text/html": [
       "<div>\n",
       "<style scoped>\n",
       "    .dataframe tbody tr th:only-of-type {\n",
       "        vertical-align: middle;\n",
       "    }\n",
       "\n",
       "    .dataframe tbody tr th {\n",
       "        vertical-align: top;\n",
       "    }\n",
       "\n",
       "    .dataframe thead th {\n",
       "        text-align: right;\n",
       "    }\n",
       "</style>\n",
       "<table border=\"1\" class=\"dataframe\">\n",
       "  <thead>\n",
       "    <tr style=\"text-align: right;\">\n",
       "      <th></th>\n",
       "      <th>CharID</th>\n",
       "      <th>MovieID</th>\n",
       "      <th>CharName</th>\n",
       "      <th>PositionCredits</th>\n",
       "      <th>ReleaseYear</th>\n",
       "      <th>Dailogue_Length_median</th>\n",
       "      <th>Dailogue_Word_Count_median</th>\n",
       "      <th>CharID_count</th>\n",
       "      <th>Dialogue_&lt;lambda&gt;</th>\n",
       "    </tr>\n",
       "  </thead>\n",
       "  <tbody>\n",
       "    <tr>\n",
       "      <th>0</th>\n",
       "      <td>u0</td>\n",
       "      <td>m0</td>\n",
       "      <td>BIANCA</td>\n",
       "      <td>4</td>\n",
       "      <td>1999</td>\n",
       "      <td>34.0</td>\n",
       "      <td>7.0</td>\n",
       "      <td>94</td>\n",
       "      <td>They do not! I hope so. Let's go. Okay -- you'...</td>\n",
       "    </tr>\n",
       "    <tr>\n",
       "      <th>1</th>\n",
       "      <td>u100</td>\n",
       "      <td>m6</td>\n",
       "      <td>AMY</td>\n",
       "      <td>7</td>\n",
       "      <td>1999</td>\n",
       "      <td>23.0</td>\n",
       "      <td>4.0</td>\n",
       "      <td>31</td>\n",
       "      <td>She died in her sleep three days ago.  It was ...</td>\n",
       "    </tr>\n",
       "    <tr>\n",
       "      <th>2</th>\n",
       "      <td>u1003</td>\n",
       "      <td>m65</td>\n",
       "      <td>RICHARD</td>\n",
       "      <td>3</td>\n",
       "      <td>1996</td>\n",
       "      <td>24.5</td>\n",
       "      <td>5.0</td>\n",
       "      <td>70</td>\n",
       "      <td>You asked me if I would -- What you said to me...</td>\n",
       "    </tr>\n",
       "    <tr>\n",
       "      <th>3</th>\n",
       "      <td>u1005</td>\n",
       "      <td>m65</td>\n",
       "      <td>SETH</td>\n",
       "      <td>2</td>\n",
       "      <td>1996</td>\n",
       "      <td>37.0</td>\n",
       "      <td>8.0</td>\n",
       "      <td>163</td>\n",
       "      <td>So let's do it. So do I just follow you? I sai...</td>\n",
       "    </tr>\n",
       "    <tr>\n",
       "      <th>4</th>\n",
       "      <td>u1008</td>\n",
       "      <td>m66</td>\n",
       "      <td>C.O.</td>\n",
       "      <td>10+</td>\n",
       "      <td>1997</td>\n",
       "      <td>48.0</td>\n",
       "      <td>9.0</td>\n",
       "      <td>33</td>\n",
       "      <td>Of course but there's more -- Uh V.I.P. securi...</td>\n",
       "    </tr>\n",
       "  </tbody>\n",
       "</table>\n",
       "</div>"
      ],
      "text/plain": [
       "  CharID MovieID CharName PositionCredits ReleaseYear  Dailogue_Length_median  \\\n",
       "0     u0      m0   BIANCA               4        1999                    34.0   \n",
       "1   u100      m6      AMY               7        1999                    23.0   \n",
       "2  u1003     m65  RICHARD               3        1996                    24.5   \n",
       "3  u1005     m65     SETH               2        1996                    37.0   \n",
       "4  u1008     m66     C.O.             10+        1997                    48.0   \n",
       "\n",
       "   Dailogue_Word_Count_median  CharID_count  \\\n",
       "0                         7.0            94   \n",
       "1                         4.0            31   \n",
       "2                         5.0            70   \n",
       "3                         8.0           163   \n",
       "4                         9.0            33   \n",
       "\n",
       "                                   Dialogue_<lambda>  \n",
       "0  They do not! I hope so. Let's go. Okay -- you'...  \n",
       "1  She died in her sleep three days ago.  It was ...  \n",
       "2  You asked me if I would -- What you said to me...  \n",
       "3  So let's do it. So do I just follow you? I sai...  \n",
       "4  Of course but there's more -- Uh V.I.P. securi...  "
      ]
     },
     "execution_count": 40,
     "metadata": {},
     "output_type": "execute_result"
    }
   ],
   "source": [
    "X.drop('Gender', axis=1, inplace=True)\n",
    "X.head()"
   ]
  },
  {
   "cell_type": "markdown",
   "metadata": {},
   "source": [
    "# Unnecessary Attributes Droping from the Dataset - Feature Engineering"
   ]
  },
  {
   "cell_type": "code",
   "execution_count": 41,
   "metadata": {},
   "outputs": [],
   "source": [
    "X.drop('CharID',   axis=1, inplace=True)\n",
    "X.drop('MovieID',  axis=1, inplace=True)\n",
    "X.drop('CharName', axis=1, inplace=True)"
   ]
  },
  {
   "cell_type": "code",
   "execution_count": 42,
   "metadata": {},
   "outputs": [
    {
     "data": {
      "text/html": [
       "<div>\n",
       "<style scoped>\n",
       "    .dataframe tbody tr th:only-of-type {\n",
       "        vertical-align: middle;\n",
       "    }\n",
       "\n",
       "    .dataframe tbody tr th {\n",
       "        vertical-align: top;\n",
       "    }\n",
       "\n",
       "    .dataframe thead th {\n",
       "        text-align: right;\n",
       "    }\n",
       "</style>\n",
       "<table border=\"1\" class=\"dataframe\">\n",
       "  <thead>\n",
       "    <tr style=\"text-align: right;\">\n",
       "      <th></th>\n",
       "      <th>PositionCredits</th>\n",
       "      <th>ReleaseYear</th>\n",
       "      <th>Dailogue_Length_median</th>\n",
       "      <th>Dailogue_Word_Count_median</th>\n",
       "      <th>CharID_count</th>\n",
       "      <th>Dialogue_&lt;lambda&gt;</th>\n",
       "    </tr>\n",
       "  </thead>\n",
       "  <tbody>\n",
       "    <tr>\n",
       "      <th>0</th>\n",
       "      <td>4</td>\n",
       "      <td>1999</td>\n",
       "      <td>34.0</td>\n",
       "      <td>7.0</td>\n",
       "      <td>94</td>\n",
       "      <td>They do not! I hope so. Let's go. Okay -- you'...</td>\n",
       "    </tr>\n",
       "    <tr>\n",
       "      <th>1</th>\n",
       "      <td>7</td>\n",
       "      <td>1999</td>\n",
       "      <td>23.0</td>\n",
       "      <td>4.0</td>\n",
       "      <td>31</td>\n",
       "      <td>She died in her sleep three days ago.  It was ...</td>\n",
       "    </tr>\n",
       "    <tr>\n",
       "      <th>2</th>\n",
       "      <td>3</td>\n",
       "      <td>1996</td>\n",
       "      <td>24.5</td>\n",
       "      <td>5.0</td>\n",
       "      <td>70</td>\n",
       "      <td>You asked me if I would -- What you said to me...</td>\n",
       "    </tr>\n",
       "    <tr>\n",
       "      <th>3</th>\n",
       "      <td>2</td>\n",
       "      <td>1996</td>\n",
       "      <td>37.0</td>\n",
       "      <td>8.0</td>\n",
       "      <td>163</td>\n",
       "      <td>So let's do it. So do I just follow you? I sai...</td>\n",
       "    </tr>\n",
       "    <tr>\n",
       "      <th>4</th>\n",
       "      <td>10+</td>\n",
       "      <td>1997</td>\n",
       "      <td>48.0</td>\n",
       "      <td>9.0</td>\n",
       "      <td>33</td>\n",
       "      <td>Of course but there's more -- Uh V.I.P. securi...</td>\n",
       "    </tr>\n",
       "  </tbody>\n",
       "</table>\n",
       "</div>"
      ],
      "text/plain": [
       "  PositionCredits ReleaseYear  Dailogue_Length_median  \\\n",
       "0               4        1999                    34.0   \n",
       "1               7        1999                    23.0   \n",
       "2               3        1996                    24.5   \n",
       "3               2        1996                    37.0   \n",
       "4             10+        1997                    48.0   \n",
       "\n",
       "   Dailogue_Word_Count_median  CharID_count  \\\n",
       "0                         7.0            94   \n",
       "1                         4.0            31   \n",
       "2                         5.0            70   \n",
       "3                         8.0           163   \n",
       "4                         9.0            33   \n",
       "\n",
       "                                   Dialogue_<lambda>  \n",
       "0  They do not! I hope so. Let's go. Okay -- you'...  \n",
       "1  She died in her sleep three days ago.  It was ...  \n",
       "2  You asked me if I would -- What you said to me...  \n",
       "3  So let's do it. So do I just follow you? I sai...  \n",
       "4  Of course but there's more -- Uh V.I.P. securi...  "
      ]
     },
     "execution_count": 42,
     "metadata": {},
     "output_type": "execute_result"
    }
   ],
   "source": [
    "X.head()"
   ]
  },
  {
   "cell_type": "code",
   "execution_count": 88,
   "metadata": {},
   "outputs": [
    {
     "data": {
      "text/plain": [
       "<matplotlib.axes._subplots.AxesSubplot at 0x1e178bae8c8>"
      ]
     },
     "execution_count": 88,
     "metadata": {},
     "output_type": "execute_result"
    },
    {
     "data": {
      "image/png": "[encoded data removed]",
      "text/plain": [
       "<Figure size 432x288 with 1 Axes>"
      ]
     },
     "metadata": {
      "needs_background": "light"
     },
     "output_type": "display_data"
    }
   ],
   "source": [
    "import seaborn as sns\n",
    "sns.boxplot(data = train, x = 'Gender', y = 'CharID_count', hue = 'Gender', palette=\"Blues\")"
   ]
  },
  {
   "cell_type": "markdown",
   "metadata": {},
   "source": [
    "Male - Female  Gender based Dailogues Distribution with CharacterID"
   ]
  },
  {
   "cell_type": "code",
   "execution_count": 89,
   "metadata": {},
   "outputs": [
    {
     "data": {
      "text/plain": [
       "0    948\n",
       "1    948\n",
       "Name: Gender, dtype: int64"
      ]
     },
     "execution_count": 89,
     "metadata": {},
     "output_type": "execute_result"
    }
   ],
   "source": [
    "undersample = RandomUnderSampler(sampling_strategy='majority')\n",
    "X_dt, y_dt = undersample.fit_resample(X, y)\n",
    "y_dt.value_counts()"
   ]
  },
  {
   "cell_type": "markdown",
   "metadata": {},
   "source": [
    "Imbalanced dataset segregatted and splitted as balanced using RandamUnderSampler"
   ]
  },
  {
   "cell_type": "markdown",
   "metadata": {},
   "source": [
    "# Data Splitting - Machine Learning Model Building"
   ]
  },
  {
   "cell_type": "code",
   "execution_count": 90,
   "metadata": {},
   "outputs": [
    {
     "data": {
      "text/plain": [
       "0    190\n",
       "1    190\n",
       "Name: Gender, dtype: int64"
      ]
     },
     "execution_count": 90,
     "metadata": {},
     "output_type": "execute_result"
    }
   ],
   "source": [
    "X_train, X_val, y_train, y_val = train_test_split(X_dt, y_dt, test_size=0.2, random_state = 10, stratify=y_dt)\n",
    "\n",
    "y_val.value_counts()"
   ]
  },
  {
   "cell_type": "code",
   "execution_count": 91,
   "metadata": {},
   "outputs": [],
   "source": [
    "class Converter(BaseEstimator, TransformerMixin):\n",
    "    def fit(self, x, y=None):\n",
    "        return self\n",
    "\n",
    "    def transform(self, data_frame):\n",
    "        return data_frame.values.ravel()"
   ]
  },
  {
   "cell_type": "markdown",
   "metadata": {},
   "source": [
    "In order to Change the Numerical, Categorical and Vector wise data , Transformation Class defined"
   ]
  },
  {
   "cell_type": "code",
   "execution_count": 94,
   "metadata": {},
   "outputs": [],
   "source": [
    "Num_A = ['Dailogue_Length_median', 'Dailogue_Word_Count_median', 'CharID_count']\n",
    "\n",
    "Num_TF = Pipeline(steps=[('scaler', MinMaxScaler())])"
   ]
  },
  {
   "cell_type": "markdown",
   "metadata": {},
   "source": [
    "For Numerical Values - Attributes and Tranformation"
   ]
  },
  {
   "cell_type": "code",
   "execution_count": 95,
   "metadata": {},
   "outputs": [],
   "source": [
    "Cat_A = ['PositionCredits']\n",
    "Cat_TF = Pipeline(steps=[\n",
    "    ('onehot', OneHotEncoder(handle_unknown='ignore'))])\n"
   ]
  },
  {
   "cell_type": "markdown",
   "metadata": {},
   "source": [
    "For Categorical Values - Attributes and Tranformation"
   ]
  },
  {
   "cell_type": "code",
   "execution_count": 96,
   "metadata": {},
   "outputs": [],
   "source": [
    "Vec_A = ['Dialogue_<lambda>']\n",
    "Vec_TF = Pipeline(steps=[\n",
    "    ('con', Converter()),\n",
    "    ('tf', TfidfVectorizer())])"
   ]
  },
  {
   "cell_type": "markdown",
   "metadata": {},
   "source": [
    "For Vectors (Dailogues) - Attributes and Tranformation"
   ]
  },
  {
   "cell_type": "code",
   "execution_count": 98,
   "metadata": {},
   "outputs": [],
   "source": [
    "preprocessor = ColumnTransformer(\n",
    "    transformers=[\n",
    "        ('num', Num_TF, Num_A),\n",
    "        ('cat', Cat_TF, Cat_TF),\n",
    "        ('vec', Vec_TF, Vec_A)\n",
    "    ])"
   ]
  },
  {
   "cell_type": "markdown",
   "metadata": {},
   "source": [
    "Preprocessing all the categories and tranformation "
   ]
  },
  {
   "cell_type": "code",
   "execution_count": 103,
   "metadata": {},
   "outputs": [],
   "source": [
    "log_clf = Pipeline(steps=[('preprocessor', preprocessor), ('classifier', LogisticRegression())])\n",
    "nb_clf  = Pipeline(steps=[('preprocessor', preprocessor), ('classifier', MultinomialNB())])\n",
    "rf_clf = Pipeline(steps=[('preprocessor', preprocessor), ('classifier', RandomForestClassifier(n_estimators=120, min_samples_leaf=10, \n",
    "                                                            max_features=0.7, n_jobs=-1, oob_score=True))])"
   ]
  },
  {
   "cell_type": "code",
   "execution_count": null,
   "metadata": {},
   "outputs": [],
   "source": []
  },
  {
   "cell_type": "code",
   "execution_count": 104,
   "metadata": {},
   "outputs": [
    {
     "data": {
      "text/plain": [
       "Pipeline(memory=None,\n",
       "         steps=[('preprocessor',\n",
       "                 ColumnTransformer(n_jobs=None, remainder='drop',\n",
       "                                   sparse_threshold=0.3,\n",
       "                                   transformer_weights=None,\n",
       "                                   transformers=[('num',\n",
       "                                                  Pipeline(memory=None,\n",
       "                                                           steps=[('scaler',\n",
       "                                                                   MinMaxScaler(copy=True,\n",
       "                                                                                feature_range=(0,\n",
       "                                                                                               1)))],\n",
       "                                                           verbose=False),\n",
       "                                                  ['Dailogue_Length_median',\n",
       "                                                   'Dailogue_Word_Count_median',\n",
       "                                                   'CharID_count']),\n",
       "                                                 ('cat',\n",
       "                                                  Pipeline(memor...\n",
       "                 RandomForestClassifier(bootstrap=True, ccp_alpha=0.0,\n",
       "                                        class_weight=None, criterion='gini',\n",
       "                                        max_depth=None, max_features=0.7,\n",
       "                                        max_leaf_nodes=None, max_samples=None,\n",
       "                                        min_impurity_decrease=0.0,\n",
       "                                        min_impurity_split=None,\n",
       "                                        min_samples_leaf=10,\n",
       "                                        min_samples_split=2,\n",
       "                                        min_weight_fraction_leaf=0.0,\n",
       "                                        n_estimators=120, n_jobs=-1,\n",
       "                                        oob_score=True, random_state=None,\n",
       "                                        verbose=0, warm_start=False))],\n",
       "         verbose=False)"
      ]
     },
     "execution_count": 104,
     "metadata": {},
     "output_type": "execute_result"
    }
   ],
   "source": [
    "log_clf.fit(X_train, y_train)\n",
    "nb_clf.fit(X_train, y_train)\n",
    "rf_clf.fit(X_train, y_train)"
   ]
  },
  {
   "cell_type": "code",
   "execution_count": 193,
   "metadata": {},
   "outputs": [],
   "source": [
    "def results(name: str, model: BaseEstimator) -> None:\n",
    "    '''\n",
    "    Custom function to check model performance on validation set\n",
    "    '''\n",
    "    preds = model.predict(X_val)\n",
    "\n",
    "    print(name + \" score: %.2f\" % model.score(X_val, y_val))\n",
    "    print(classification_report(y_val, preds))\n",
    "    labels = ['Male', 'Female']\n",
    "\n",
    "    conf_matrix = confusion_matrix(y_val, preds)\n",
    "    plt.figure(figsize= (6,4))\n",
    "    sns.set(font_scale=1)\n",
    "    sns.heatmap(conf_matrix, xticklabels=labels, yticklabels=labels, annot=True, \n",
    "                 center = 0, fmt=\"d\", cmap=\"coolwarm\",linewidths=.02)\n",
    "    plt.title(\"Confusion Matrix for \" + name)\n",
    "    plt.ylabel('True Class')\n",
    "    plt.xlabel('Predicted Class')  "
   ]
  },
  {
   "cell_type": "code",
   "execution_count": 194,
   "metadata": {},
   "outputs": [
    {
     "name": "stdout",
     "output_type": "stream",
     "text": [
      "Logistic Regression score: 0.73\n",
      "              precision    recall  f1-score   support\n",
      "\n",
      "           0       0.73      0.74      0.73       190\n",
      "           1       0.74      0.73      0.73       190\n",
      "\n",
      "    accuracy                           0.73       380\n",
      "   macro avg       0.73      0.73      0.73       380\n",
      "weighted avg       0.73      0.73      0.73       380\n",
      "\n",
      "Naive Bayes score: 0.69\n",
      "              precision    recall  f1-score   support\n",
      "\n",
      "           0       0.70      0.68      0.69       190\n",
      "           1       0.69      0.71      0.70       190\n",
      "\n",
      "    accuracy                           0.69       380\n",
      "   macro avg       0.69      0.69      0.69       380\n",
      "weighted avg       0.69      0.69      0.69       380\n",
      "\n",
      "Random Forest score: 0.72\n",
      "              precision    recall  f1-score   support\n",
      "\n",
      "           0       0.73      0.69      0.71       190\n",
      "           1       0.70      0.74      0.72       190\n",
      "\n",
      "    accuracy                           0.72       380\n",
      "   macro avg       0.72      0.72      0.72       380\n",
      "weighted avg       0.72      0.72      0.72       380\n",
      "\n"
     ]
    },
    {
     "data": {
      "image/png": "[encoded data removed]",
      "text/plain": [
       "<Figure size 432x288 with 2 Axes>"
      ]
     },
     "metadata": {},
     "output_type": "display_data"
    },
    {
     "data": {
      "image/png": "[encoded data removed]",
      "text/plain": [
       "<Figure size 432x288 with 2 Axes>"
      ]
     },
     "metadata": {},
     "output_type": "display_data"
    },
    {
     "data": {
      "image/png": "[encoded data removed]",
      "text/plain": [
       "<Figure size 432x288 with 2 Axes>"
      ]
     },
     "metadata": {},
     "output_type": "display_data"
    }
   ],
   "source": [
    "results(\"Logistic Regression\" , log_clf)\n",
    "results(\"Naive Bayes\" , nb_clf)\n",
    "results(\"Random Forest\" , rf_clf)"
   ]
  },
  {
   "cell_type": "code",
   "execution_count": null,
   "metadata": {},
   "outputs": [],
   "source": []
  }
 ],
 "metadata": {
  "kernelspec": {
   "display_name": "Python 3",
   "language": "python",
   "name": "python3"
  },
  "language_info": {
   "codemirror_mode": {
    "name": "ipython",
    "version": 3
   },
   "file_extension": ".py",
   "mimetype": "text/x-python",
   "name": "python",
   "nbconvert_exporter": "python",
   "pygments_lexer": "ipython3",
   "version": "3.7.4"
  }
 },
 "nbformat": 4,
 "nbformat_minor": 2
}
